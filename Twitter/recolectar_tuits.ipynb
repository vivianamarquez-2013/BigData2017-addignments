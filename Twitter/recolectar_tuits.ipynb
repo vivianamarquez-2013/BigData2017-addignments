{
 "cells": [
  {
   "cell_type": "markdown",
   "metadata": {},
   "source": [
    "<img src=\"http://orientacion.universia.net.co/imgs2011/imagenes/logo-header-konradlorenz.png\">\n",
    "# Big Data\n",
    "### Script para recolectar tuits.\n",
    "<b>Nombre:</b> Viviana Márquez<br>\n",
    "<b>Código:</b> 614132005<br>\n",
    "<hr>"
   ]
  },
  {
   "cell_type": "code",
   "execution_count": 1,
   "metadata": {
    "collapsed": true
   },
   "outputs": [],
   "source": [
    "#Importar las librerias necesarias\n",
    "from twitter import *\n",
    "import csv"
   ]
  },
  {
   "cell_type": "code",
   "execution_count": 2,
   "metadata": {
    "collapsed": true
   },
   "outputs": [],
   "source": [
    "#API credentials \n",
    "config = {}\n",
    "execfile(\"config.py\", config)\n",
    "\n",
    "#twitter API object\n",
    "twitter = Twitter(auth = OAuth(config[\"access_key\"], config[\"access_secret\"],\n",
    "                               config[\"consumer_key\"],config[\"consumer_secret\"]))"
   ]
  },
  {
   "cell_type": "code",
   "execution_count": 3,
   "metadata": {
    "collapsed": true
   },
   "outputs": [],
   "source": [
    "#Parámetros\n",
    "latitude = 4.624335\n",
    "longitude = -74.063644\n",
    "max_range = 20000\n",
    "num_results = 1000\n",
    "quest = \"matematicas\"\n",
    "outfile = \"output_matematicas.csv\""
   ]
  },
  {
   "cell_type": "code",
   "execution_count": 4,
   "metadata": {},
   "outputs": [
    {
     "ename": "TwitterHTTPError",
     "evalue": "Twitter sent status 429 for URL: 1.1/search/tweets.json using parameters: (count=100&max_id=None&oauth_consumer_key=fqXJkfimZhXpJOnUy0GYg8CG9&oauth_nonce=10607985391894005611&oauth_signature_method=HMAC-SHA1&oauth_timestamp=1510412675&oauth_token=256037354-f7ATSroJIl1WyFPFghDAhec3T0eT8jWII7dyo0M8&oauth_version=1.0&q=matematicas&oauth_signature=yZy4xtMrvb9WJc6tVmIy6p0fa%2F0%3D)\ndetails: {u'errors': [{u'message': u'Rate limit exceeded', u'code': 88}]}",
     "output_type": "error",
     "traceback": [
      "\u001b[0;31m---------------------------------------------------------------------------\u001b[0m",
      "\u001b[0;31mTwitterHTTPError\u001b[0m                          Traceback (most recent call last)",
      "\u001b[0;32m<ipython-input-4-e6bdd360606d>\u001b[0m in \u001b[0;36m<module>\u001b[0;34m()\u001b[0m\n\u001b[1;32m      4\u001b[0m     \u001b[0;31m#try:\u001b[0m\u001b[0;34m\u001b[0m\u001b[0;34m\u001b[0m\u001b[0m\n\u001b[1;32m      5\u001b[0m         \u001b[0;31m#query = twitter.search.tweets(q = quest, geocode = \"%f,%f,%dkm\" % (latitude, longitude, max_range), count = 100, max_id = last_id)\u001b[0m\u001b[0;34m\u001b[0m\u001b[0;34m\u001b[0m\u001b[0m\n\u001b[0;32m----> 6\u001b[0;31m         \u001b[0mquery\u001b[0m \u001b[0;34m=\u001b[0m \u001b[0mtwitter\u001b[0m\u001b[0;34m.\u001b[0m\u001b[0msearch\u001b[0m\u001b[0;34m.\u001b[0m\u001b[0mtweets\u001b[0m\u001b[0;34m(\u001b[0m\u001b[0mq\u001b[0m \u001b[0;34m=\u001b[0m \u001b[0mquest\u001b[0m\u001b[0;34m,\u001b[0m \u001b[0mcount\u001b[0m \u001b[0;34m=\u001b[0m \u001b[0;36m100\u001b[0m\u001b[0;34m,\u001b[0m \u001b[0mmax_id\u001b[0m \u001b[0;34m=\u001b[0m \u001b[0mlast_id\u001b[0m\u001b[0;34m)\u001b[0m\u001b[0;34m\u001b[0m\u001b[0m\n\u001b[0m\u001b[1;32m      7\u001b[0m     \u001b[0;31m#except Exception:\u001b[0m\u001b[0;34m\u001b[0m\u001b[0;34m\u001b[0m\u001b[0m\n\u001b[1;32m      8\u001b[0m         \u001b[0;31m#break\u001b[0m\u001b[0;34m\u001b[0m\u001b[0;34m\u001b[0m\u001b[0m\n",
      "\u001b[0;32m/Users/vivianamarquez/Desktop/Project/2/twitter/api.pyc\u001b[0m in \u001b[0;36m__call__\u001b[0;34m(self, **kwargs)\u001b[0m\n\u001b[1;32m    310\u001b[0m             \u001b[0;32mreturn\u001b[0m \u001b[0mself\u001b[0m\u001b[0;34m.\u001b[0m\u001b[0m_handle_response_with_retry\u001b[0m\u001b[0;34m(\u001b[0m\u001b[0mreq\u001b[0m\u001b[0;34m,\u001b[0m \u001b[0muri\u001b[0m\u001b[0;34m,\u001b[0m \u001b[0marg_data\u001b[0m\u001b[0;34m,\u001b[0m \u001b[0m_timeout\u001b[0m\u001b[0;34m)\u001b[0m\u001b[0;34m\u001b[0m\u001b[0m\n\u001b[1;32m    311\u001b[0m         \u001b[0;32melse\u001b[0m\u001b[0;34m:\u001b[0m\u001b[0;34m\u001b[0m\u001b[0m\n\u001b[0;32m--> 312\u001b[0;31m             \u001b[0;32mreturn\u001b[0m \u001b[0mself\u001b[0m\u001b[0;34m.\u001b[0m\u001b[0m_handle_response\u001b[0m\u001b[0;34m(\u001b[0m\u001b[0mreq\u001b[0m\u001b[0;34m,\u001b[0m \u001b[0muri\u001b[0m\u001b[0;34m,\u001b[0m \u001b[0marg_data\u001b[0m\u001b[0;34m,\u001b[0m \u001b[0m_timeout\u001b[0m\u001b[0;34m)\u001b[0m\u001b[0;34m\u001b[0m\u001b[0m\n\u001b[0m\u001b[1;32m    313\u001b[0m \u001b[0;34m\u001b[0m\u001b[0m\n\u001b[1;32m    314\u001b[0m     \u001b[0;32mdef\u001b[0m \u001b[0m_handle_response\u001b[0m\u001b[0;34m(\u001b[0m\u001b[0mself\u001b[0m\u001b[0;34m,\u001b[0m \u001b[0mreq\u001b[0m\u001b[0;34m,\u001b[0m \u001b[0muri\u001b[0m\u001b[0;34m,\u001b[0m \u001b[0marg_data\u001b[0m\u001b[0;34m,\u001b[0m \u001b[0m_timeout\u001b[0m\u001b[0;34m=\u001b[0m\u001b[0mNone\u001b[0m\u001b[0;34m)\u001b[0m\u001b[0;34m:\u001b[0m\u001b[0;34m\u001b[0m\u001b[0m\n",
      "\u001b[0;32m/Users/vivianamarquez/Desktop/Project/2/twitter/api.pyc\u001b[0m in \u001b[0;36m_handle_response\u001b[0;34m(self, req, uri, arg_data, _timeout)\u001b[0m\n\u001b[1;32m    343\u001b[0m                 \u001b[0;32mreturn\u001b[0m \u001b[0;34m[\u001b[0m\u001b[0;34m]\u001b[0m\u001b[0;34m\u001b[0m\u001b[0m\n\u001b[1;32m    344\u001b[0m             \u001b[0;32melse\u001b[0m\u001b[0;34m:\u001b[0m\u001b[0;34m\u001b[0m\u001b[0m\n\u001b[0;32m--> 345\u001b[0;31m                 \u001b[0;32mraise\u001b[0m \u001b[0mTwitterHTTPError\u001b[0m\u001b[0;34m(\u001b[0m\u001b[0me\u001b[0m\u001b[0;34m,\u001b[0m \u001b[0muri\u001b[0m\u001b[0;34m,\u001b[0m \u001b[0mself\u001b[0m\u001b[0;34m.\u001b[0m\u001b[0mformat\u001b[0m\u001b[0;34m,\u001b[0m \u001b[0marg_data\u001b[0m\u001b[0;34m)\u001b[0m\u001b[0;34m\u001b[0m\u001b[0m\n\u001b[0m\u001b[1;32m    346\u001b[0m \u001b[0;34m\u001b[0m\u001b[0m\n\u001b[1;32m    347\u001b[0m     \u001b[0;32mdef\u001b[0m \u001b[0m_handle_response_with_retry\u001b[0m\u001b[0;34m(\u001b[0m\u001b[0mself\u001b[0m\u001b[0;34m,\u001b[0m \u001b[0mreq\u001b[0m\u001b[0;34m,\u001b[0m \u001b[0muri\u001b[0m\u001b[0;34m,\u001b[0m \u001b[0marg_data\u001b[0m\u001b[0;34m,\u001b[0m \u001b[0m_timeout\u001b[0m\u001b[0;34m=\u001b[0m\u001b[0mNone\u001b[0m\u001b[0;34m)\u001b[0m\u001b[0;34m:\u001b[0m\u001b[0;34m\u001b[0m\u001b[0m\n",
      "\u001b[0;31mTwitterHTTPError\u001b[0m: Twitter sent status 429 for URL: 1.1/search/tweets.json using parameters: (count=100&max_id=None&oauth_consumer_key=fqXJkfimZhXpJOnUy0GYg8CG9&oauth_nonce=10607985391894005611&oauth_signature_method=HMAC-SHA1&oauth_timestamp=1510412675&oauth_token=256037354-f7ATSroJIl1WyFPFghDAhec3T0eT8jWII7dyo0M8&oauth_version=1.0&q=matematicas&oauth_signature=yZy4xtMrvb9WJc6tVmIy6p0fa%2F0%3D)\ndetails: {u'errors': [{u'message': u'Rate limit exceeded', u'code': 88}]}"
     ]
    }
   ],
   "source": [
    "result_count = 0\n",
    "last_id = None\n",
    "while result_count <  num_results:\n",
    "    #try:\n",
    "        #query = twitter.search.tweets(q = quest, geocode = \"%f,%f,%dkm\" % (latitude, longitude, max_range), count = 100, max_id = last_id)\n",
    "        query = twitter.search.tweets(q = quest, count = 100, max_id = last_id)\n",
    "    #except Exception:\n",
    "        #break"
   ]
  },
  {
   "cell_type": "code",
   "execution_count": 7,
   "metadata": {
    "collapsed": true
   },
   "outputs": [],
   "source": [
    "csvfile = file(outfile, \"a\")\n",
    "csvwriter = csv.writer(csvfile)\n",
    "#row = [ \"user\", \"text\", \"city\", \"country\", \"latitude\", \"longitude\" ]\n",
    "#csvwriter.writerow(row)\n",
    "for result in query[\"statuses\"]:\n",
    "    if (not result[\"retweeted\"]) and ('RT @' not in result[\"text\"]):\n",
    "        if result[\"geo\"]:\n",
    "            user = result[\"user\"][\"screen_name\"]\n",
    "            text = result[\"text\"]\n",
    "            text = text.encode('utf8')\n",
    "            latitude = result[\"geo\"][\"coordinates\"][0]\n",
    "            longitude = result[\"geo\"][\"coordinates\"][1]\n",
    "            if result[\"place\"]:\n",
    "                city = result[\"place\"][\"name\"]\n",
    "                #city = city.encode('ascii', 'replace')\n",
    "                city = city.encode('utf8')\n",
    "                country = result[\"place\"][\"country\"]\n",
    "            else:\n",
    "                city = \"N/A\"\n",
    "                country = \"N/A\"\n",
    "        else:\n",
    "            user = result[\"user\"][\"screen_name\"]\n",
    "            text = result[\"text\"]\n",
    "            text = text.encode('utf8')\n",
    "            latitude = \"N/A\"\n",
    "            longitude = \"N/A\"\n",
    "            if result[\"place\"]:\n",
    "                city = result[\"place\"][\"name\"]\n",
    "                city = city.encode('utf8')\n",
    "                #city = city.encode('ascii', 'replace')\n",
    "                country = result[\"place\"][\"country\"]\n",
    "            else:\n",
    "                city = \"N/A\"\n",
    "                country = \"N/A\"\n",
    "\n",
    "            # now write this row to our CSV file\n",
    "            row = [ user, text, city, country, latitude, longitude ]\n",
    "            csvwriter.writerow(row)\n",
    "            result_count += 1\n",
    "        last_id = result[\"id\"]\n",
    "csvfile.close()"
   ]
  },
  {
   "cell_type": "code",
   "execution_count": 11,
   "metadata": {
    "collapsed": true
   },
   "outputs": [],
   "source": [
    "inFile = open('output_matematicas.csv','r')\n",
    "outFile = open('2.csv','w')\n",
    "listLines = []\n",
    "row = \"user,text,city,country,latitude,longitude\\n\"\n",
    "outFile.write(row)\n",
    "for line in inFile:\n",
    "    if line in listLines:\n",
    "        continue\n",
    "    else:\n",
    "        outFile.write(line)\n",
    "        listLines.append(line)\n",
    "outFile.close()\n",
    "inFile.close()"
   ]
  },
  {
   "cell_type": "code",
   "execution_count": null,
   "metadata": {},
   "outputs": [],
   "source": [
    "last_id "
   ]
  },
  {
   "cell_type": "code",
   "execution_count": null,
   "metadata": {
    "collapsed": true
   },
   "outputs": [],
   "source": []
  },
  {
   "cell_type": "code",
   "execution_count": 12,
   "metadata": {},
   "outputs": [],
   "source": [
    "inFile = open('output_matematicas.csv','r')\n",
    "outFile = open('2.csv','w')\n",
    "listLines = []\n",
    "row = \"user,text,city,country,latitude,longitude\\n\"\n",
    "outFile.write(row)\n",
    "for line in inFile:\n",
    "    outFile.write(line)\n",
    "    listLines.append(line)\n",
    "outFile.close()\n",
    "inFile.close()"
   ]
  },
  {
   "cell_type": "code",
   "execution_count": null,
   "metadata": {
    "collapsed": true
   },
   "outputs": [],
   "source": []
  },
  {
   "cell_type": "code",
   "execution_count": null,
   "metadata": {
    "collapsed": true
   },
   "outputs": [],
   "source": [
    "import time\n",
    "def periodic_work(interval):\n",
    "    \n",
    "    #Parámetros\n",
    "    latitude = 4.624335\n",
    "    longitude = -74.063644\n",
    "    max_range = 20000\n",
    "    num_results = 1000\n",
    "    quest = \"matematicas\"\n",
    "    outfile = \"output_matematicas.csv\"\n",
    "    \n",
    "    result_count = 0\n",
    "    last_id = None\n",
    "    while result_count <  num_results:\n",
    "        try:\n",
    "            #query = twitter.search.tweets(q = quest, geocode = \"%f,%f,%dkm\" % (latitude, longitude, max_range), count = 100, max_id = last_id)\n",
    "            query = twitter.search.tweets(q = quest, count = 100, max_id = last_id)\n",
    "        except Exception:\n",
    "            break\n",
    "            \n",
    "    csvfile = file(outfile, \"a\")\n",
    "    csvwriter = csv.writer(csvfile)\n",
    "    #row = [ \"user\", \"text\", \"city\", \"country\", \"latitude\", \"longitude\" ]\n",
    "    #csvwriter.writerow(row)\n",
    "    for result in query[\"statuses\"]:\n",
    "        if (not result[\"retweeted\"]) and ('RT @' not in result[\"text\"]):\n",
    "            if result[\"geo\"]:\n",
    "                user = result[\"user\"][\"screen_name\"]\n",
    "                text = result[\"text\"]\n",
    "                text = text.encode('utf8')\n",
    "                latitude = result[\"geo\"][\"coordinates\"][0]\n",
    "                longitude = result[\"geo\"][\"coordinates\"][1]\n",
    "                if result[\"place\"]:\n",
    "                    city = result[\"place\"][\"name\"]\n",
    "                    #city = city.encode('ascii', 'replace')\n",
    "                    city = city.encode('utf8')\n",
    "                    country = result[\"place\"][\"country\"]\n",
    "                else:\n",
    "                    city = \"N/A\"\n",
    "                    country = \"N/A\"\n",
    "            else:\n",
    "                user = result[\"user\"][\"screen_name\"]\n",
    "                text = result[\"text\"]\n",
    "                text = text.encode('utf8')\n",
    "                latitude = \"N/A\"\n",
    "                longitude = \"N/A\"\n",
    "                if result[\"place\"]:\n",
    "                    city = result[\"place\"][\"name\"]\n",
    "                    city = city.encode('utf8')\n",
    "                    #city = city.encode('ascii', 'replace')\n",
    "                    country = result[\"place\"][\"country\"]\n",
    "                else:\n",
    "                    city = \"N/A\"\n",
    "                    country = \"N/A\"\n",
    "\n",
    "                # now write this row to our CSV file\n",
    "                row = [ user, text, city, country, latitude, longitude ]\n",
    "                csvwriter.writerow(row)\n",
    "                result_count += 1\n",
    "            last_id = result[\"id\"]\n",
    "    csvfile.close()\n",
    "    \n",
    "    inFile = open('output_matematicas.csv','r')\n",
    "    outFile = open('2.csv','w')\n",
    "    listLines = []\n",
    "    row = \"user,text,city,country,latitude,longitude \\n\"\n",
    "    outFile.write(row)\n",
    "    for line in inFile:\n",
    "        if line in listLines:\n",
    "            continue\n",
    "        else:\n",
    "            outFile.write(line)\n",
    "            listLines.append(line)\n",
    "    outFile.close()\n",
    "    inFile.close()\n",
    "    \n",
    "    print \"It's done\"\n",
    "    \n",
    "    time.sleep(interval)"
   ]
  },
  {
   "cell_type": "code",
   "execution_count": null,
   "metadata": {
    "collapsed": true
   },
   "outputs": [],
   "source": [
    "periodic_work(1200)"
   ]
  }
 ],
 "metadata": {
  "kernelspec": {
   "display_name": "Python 2",
   "language": "python",
   "name": "python2"
  },
  "language_info": {
   "codemirror_mode": {
    "name": "ipython",
    "version": 2
   },
   "file_extension": ".py",
   "mimetype": "text/x-python",
   "name": "python",
   "nbconvert_exporter": "python",
   "pygments_lexer": "ipython2",
   "version": "2.7.13"
  }
 },
 "nbformat": 4,
 "nbformat_minor": 2
}
