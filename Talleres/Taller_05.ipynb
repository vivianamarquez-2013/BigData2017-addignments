{
 "cells": [
  {
   "cell_type": "markdown",
   "metadata": {},
   "source": [
    "<img src=\"http://orientacion.universia.net.co/imgs2011/imagenes/logo-header-konradlorenz.png\">\n",
    "# Big Data\n",
    "### Taller 05\n",
    "<b>Nombre:</b> Viviana Márquez<br>\n",
    "<b>Código:</b> 614132005<br>\n",
    "<b>Fecha:</b> Sábado, 30 de Septiembre de 2017<br>\n",
    "<hr>"
   ]
  },
  {
   "cell_type": "markdown",
   "metadata": {},
   "source": [
    "##### Librerias"
   ]
  },
  {
   "cell_type": "code",
   "execution_count": 1,
   "metadata": {
    "collapsed": true
   },
   "outputs": [],
   "source": [
    "import json \n",
    "import numpy as np"
   ]
  },
  {
   "cell_type": "markdown",
   "metadata": {},
   "source": [
    "<hr>\n",
    "##### Total de Tweets"
   ]
  },
  {
   "cell_type": "code",
   "execution_count": 3,
   "metadata": {},
   "outputs": [
    {
     "name": "stdout",
     "output_type": "stream",
     "text": [
      "Total de Tweets: 6992\n"
     ]
    }
   ],
   "source": [
    "tweets = json.load(open('/home/ubuntu/Notebooks/datasets/Result_Tweets_FV.json'))\n",
    "total = len(tweets)\n",
    "print 'Total de Tweets:',total"
   ]
  },
  {
   "cell_type": "markdown",
   "metadata": {},
   "source": [
    "<hr>\n",
    "##### Lugares donde se generan los tweets"
   ]
  },
  {
   "cell_type": "code",
   "execution_count": 28,
   "metadata": {},
   "outputs": [
    {
     "name": "stdout",
     "output_type": "stream",
     "text": [
      "Cantidad\tLugar\n",
      "2301 \tPalmira, Valle del Cauca\n",
      "374 \tPradera, Valle del Cauca\n",
      "3 \tHuila, Colombia\n",
      "1 \tCiudad Madero, Tamaulipas\n",
      "51 \tValle del Cauca, Colombia\n",
      "3 \tCauca, Colombia\n",
      "20 \tFlorida, Valle del Cauca\n",
      "1110 \tColombia\n",
      "1104 \tCali, Valle del Cauca\n",
      "1839 \tCandelaria, Valle del Cauca\n",
      "163 \tYumbo, Valle del Cauca\n",
      "23 \tPuerto Tejada, Cauca\n"
     ]
    }
   ],
   "source": [
    "lugares = {}\n",
    "for t in tweets:\n",
    "    try:\n",
    "        lugares[t['place']] += 1\n",
    "    except:\n",
    "        lugares[t['place']] = 1\n",
    "print 'Cantidad\\tLugar'\n",
    "for k in lugares.keys():\n",
    "    print lugares[k],'\\t',k"
   ]
  },
  {
   "cell_type": "code",
   "execution_count": 26,
   "metadata": {},
   "outputs": [
    {
     "data": {
      "text/plain": [
       "{u'_id': u'5651c4bddad9e30e58e0e470',\n",
       " u'country': u'Colombia',\n",
       " u'date': u'2015-11-22T13:35:56.000Z',\n",
       " u'id': u'668422662671228932',\n",
       " u'place': u'Cali, Valle del Cauca',\n",
       " u'text': u'\\xbfDe qu\\xe9 sirve tener un fin y comiendo de a\\xf1o, si el otro es una mierda?',\n",
       " u'userName': u'Jefertino45HabboEs'}"
      ]
     },
     "execution_count": 26,
     "metadata": {},
     "output_type": "execute_result"
    }
   ],
   "source": [
    "t #lugares['JAJAJAJAJ'] = 1"
   ]
  },
  {
   "cell_type": "markdown",
   "metadata": {},
   "source": [
    "<hr>\n",
    "#### Hora promedio y dst de los tweets"
   ]
  },
  {
   "cell_type": "code",
   "execution_count": 47,
   "metadata": {},
   "outputs": [
    {
     "name": "stdout",
     "output_type": "stream",
     "text": [
      "Hora promedio: 11.4033180778 : 29.1125572082 : 29.7926201373\n",
      "Desviación: (+/-) 8.15109252533 horas 17.5401974483 min 17.3003043055 seg\n"
     ]
    }
   ],
   "source": [
    "#Le ingresa el campo de date\n",
    "def hora(d):\n",
    "    #Parte la hora, lo que viene después de la T y quita la Z.\n",
    "    t = d.split('T')[1].replace('Z','')\n",
    "    #Lista con hora, minuto, segundo\n",
    "    h = list(map(float,t.split(':')))\n",
    "    return h\n",
    "\n",
    "#Matriz de tamaño tuits x 3\n",
    "T = np.zeros((total,3))\n",
    "for i in range(total):\n",
    "    #Todas las columnas las llenas con la función hora del tuit sobre el campo date.\n",
    "    T[i,:]=hora(tweets[i]['date'])\n",
    "    \n",
    "#Promedio de hora, minuo, segundo. El cero es por la iteración del map, que saque todos los valores de las columnas. \n",
    "#Map regresa la lista de resultados de aplicar la función al argumento.\n",
    "prom = list(map(float,np.mean(T,0)))\n",
    "print \"Hora promedio:\",prom[0],\":\",prom[1],\":\",prom[2]\n",
    "des = list(map(float,np.std(T,0)))\n",
    "print \"Desviación: (+/-)\",des[0],\"horas\",des[1],\"min\",des[2],\"seg\""
   ]
  },
  {
   "cell_type": "markdown",
   "metadata": {},
   "source": [
    "<hr>\n",
    "#### Palabras diferentes"
   ]
  },
  {
   "cell_type": "code",
   "execution_count": 59,
   "metadata": {},
   "outputs": [
    {
     "name": "stdout",
     "output_type": "stream",
     "text": [
      "Total palabras diferentes: 19302\n"
     ]
    }
   ],
   "source": [
    "palabras = {}\n",
    "\n",
    "for t in tweets:\n",
    "    texto = t['text'].split()\n",
    "    for w in texto:\n",
    "        try:\n",
    "            palabras[w] += 1\n",
    "        except:\n",
    "            palabras[w] = 1\n",
    "\n",
    "print \"Total palabras diferentes:\",len(palabras)"
   ]
  },
  {
   "cell_type": "markdown",
   "metadata": {},
   "source": [
    "#### Top 10 palabras más populares"
   ]
  },
  {
   "cell_type": "code",
   "execution_count": 86,
   "metadata": {},
   "outputs": [
    {
     "name": "stdout",
     "output_type": "stream",
     "text": [
      "2243 \tque\n",
      "2175 \tde\n",
      "1404 \ta\n",
      "1356 \tla\n",
      "1221 \ty\n",
      "1167 \tel\n",
      "1043 \tno\n",
      "939 \ten\n",
      "900 \tes\n",
      "847 \tme\n"
     ]
    }
   ],
   "source": [
    "def mostrarInfo(info):\n",
    "    for k in info:\n",
    "        print k[1],\"\\t\",k[0]\n",
    "        \n",
    "#Cada palabra del diccionario, y la cantidad que se presenta. \n",
    "frec = [(x,palabras[x]) for x in palabras.keys()]\n",
    "#Las organiza. Key=lambda agiliza porque llama exactamente una vez cada input. Organiza a partir del parametro [1]\n",
    "frec.sort(key=lambda x:x[1], reverse=True)\n",
    "#Para mostrarlas fancy.\n",
    "mostrarInfo(frec[0:10])"
   ]
  },
  {
   "cell_type": "code",
   "execution_count": 87,
   "metadata": {},
   "outputs": [
    {
     "name": "stdout",
     "output_type": "stream",
     "text": [
      "127 \ttan\n",
      "123 \tSi\n",
      "121 \tni\n",
      "117 \tqué\n",
      "114 \thay\n",
      "113 \to\n",
      "113 \tmejor\n",
      "110 \tmuy\n",
      "108 \ttiene\n",
      "107 \tuno\n",
      "103 \tnos\n",
      "102 \teste\n",
      "97 \tLo\n",
      "97 \tesa\n",
      "97 \t-\n",
      "95 \tmas\n",
      "93 \tquiero\n",
      "91 \thace\n",
      "90 \tDE\n",
      "90 \tese\n",
      "89 \tYa\n",
      "89 \tEs\n",
      "88 \tgente\n",
      "88 \teso\n",
      "87 \testá\n",
      "87 \tver\n",
      "85 \tsiempre\n",
      "83 \thoy\n",
      "82 \tnada\n",
      "82 \tva\n"
     ]
    }
   ],
   "source": [
    "#Haciendo cortes\n",
    "mostrarInfo(frec[50:80])"
   ]
  },
  {
   "cell_type": "code",
   "execution_count": 88,
   "metadata": {},
   "outputs": [
    {
     "name": "stdout",
     "output_type": "stream",
     "text": [
      "67 \tmundo\n",
      "67 \tSe\n",
      "66 \tda\n",
      "64 \tles\n",
      "64 \tasí\n",
      "64 \tnunca\n",
      "64 \talgo\n",
      "63 \tvez\n",
      "62 \tLos\n",
      "62 \tmucho\n",
      "61 \t:(\n",
      "61 \testar\n",
      "61 \tmal\n",
      "61 \tComo\n",
      "60 \tDe\n",
      "58 \tdonde\n",
      "58 \tUn\n",
      "58 \testoy\n",
      "58 \ttiempo\n",
      "57 \tHoy\n",
      "57 \tquien\n",
      "56 \tTe\n",
      "56 \the\n",
      "56 \tpartido\n",
      "56 \ttanto\n",
      "55 \tcada\n",
      "53 \tColombia\n",
      "53 \tsoy\n",
      "53 \tQué\n",
      "52 \ttener\n"
     ]
    }
   ],
   "source": [
    "#Haciendo cortes\n",
    "mostrarInfo(frec[100:130])"
   ]
  },
  {
   "cell_type": "code",
   "execution_count": 89,
   "metadata": {},
   "outputs": [
    {
     "name": "stdout",
     "output_type": "stream",
     "text": [
      "4 \tIm\n",
      "4 \tEstá\n",
      "4 \tBravo\n",
      "4 \tvaina\n",
      "4 \tESA\n",
      "4 \tcalle\n",
      "4 \tfuego\n",
      "4 \tTodas\n",
      "4 \tten\n",
      "4 \tMascherano\n",
      "4 \tconmigo,\n",
      "4 \tmusica\n",
      "4 \tft.\n",
      "4 \thamburguesa\n",
      "4 \tclásico.\n",
      "4 \tSABES\n",
      "4 \t\"Los\n",
      "4 \tconocerte\n",
      "4 \t👏👏👏\n",
      "4 \tCúcuta\n",
      "4 \tcostumbre\n",
      "4 \tconversaciones\n",
      "4 \tespacio\n",
      "4 \tdos,\n",
      "4 \tMadre\n",
      "4 \tHIJUEPUTA,\n",
      "4 \tNoche\n",
      "4 \tqueremos\n",
      "4 \tSALE\n",
      "4 \tfamilia\n"
     ]
    }
   ],
   "source": [
    "#Haciendo cortes\n",
    "mostrarInfo(frec[2000:2030])"
   ]
  }
 ],
 "metadata": {
  "kernelspec": {
   "display_name": "Python 2",
   "language": "python",
   "name": "python2"
  },
  "language_info": {
   "codemirror_mode": {
    "name": "ipython",
    "version": 2
   },
   "file_extension": ".py",
   "mimetype": "text/x-python",
   "name": "python",
   "nbconvert_exporter": "python",
   "pygments_lexer": "ipython2",
   "version": "2.7.13"
  }
 },
 "nbformat": 4,
 "nbformat_minor": 2
}
