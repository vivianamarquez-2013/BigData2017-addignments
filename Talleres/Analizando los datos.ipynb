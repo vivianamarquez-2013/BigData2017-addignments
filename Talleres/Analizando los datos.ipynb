{
 "cells": [
  {
   "cell_type": "markdown",
   "metadata": {},
   "source": [
    "<img src=\"http://orientacion.universia.net.co/imgs2011/imagenes/logo-header-konradlorenz.png\">\n",
    "# Big Data\n",
    "### Analizando los datos\n",
    "<b>Nombre:</b> Viviana Márquez<br>\n",
    "<b>Código:</b> 614132005<br>\n",
    "<hr>"
   ]
  },
  {
   "cell_type": "code",
   "execution_count": null,
   "metadata": {},
   "outputs": [],
   "source": [
    "import csv\n",
    "import unicodedata\n",
    "import sys\n",
    "stdout = sys.stdout\n",
    "reload(sys)\n",
    "sys.setdefaultencoding('utf-8')\n",
    "sys.stdout = stdout\n",
    "import string\n",
    "%matplotlib inline\n",
    "import scipy \n",
    "import numpy as np\n",
    "import matplotlib.pyplot as plt\n",
    "import nltk\n",
    "#nltk.download()"
   ]
  },
  {
   "cell_type": "code",
   "execution_count": null,
   "metadata": {
    "collapsed": true
   },
   "outputs": [],
   "source": [
    "tweets = []\n",
    "with open('/Users/vivianamarquez/Desktop/Project/2/2.csv') as csvfile:\n",
    "    reader = csv.DictReader(csvfile)\n",
    "    for row in reader:\n",
    "        tweets.append(row)"
   ]
  },
  {
   "cell_type": "code",
   "execution_count": null,
   "metadata": {},
   "outputs": [],
   "source": [
    "total = len(tweets)\n",
    "print 'Total de Tweets:',total\n",
    "#print(tweets[10][\"text\"])\n",
    "#tweets[10]"
   ]
  },
  {
   "cell_type": "code",
   "execution_count": null,
   "metadata": {},
   "outputs": [],
   "source": [
    "def remove_accents(input_str):\n",
    "    nkfd_form = unicodedata.normalize('NFKD', unicode(input_str))\n",
    "    return u\"\".join([c for c in nkfd_form if not unicodedata.combining(c)])\n",
    "\n",
    "predicate = lambda x:x not in string.punctuation"
   ]
  },
  {
   "cell_type": "code",
   "execution_count": null,
   "metadata": {},
   "outputs": [],
   "source": [
    "lugares = {}\n",
    "for t in tweets:\n",
    "    try:\n",
    "        lugares[t['city']] += 1\n",
    "    except:\n",
    "        lugares[t['city']] = 1\n",
    "print 'Cantidad\\tLugar'\n",
    "for k in lugares.keys():\n",
    "    print lugares[k],'\\t\\t',k"
   ]
  },
  {
   "cell_type": "code",
   "execution_count": null,
   "metadata": {},
   "outputs": [],
   "source": [
    "palabras = {}\n",
    "\n",
    "for t in tweets:\n",
    "    texto = filter(predicate,remove_accents(t['text'])).lower().split()\n",
    "    for w in texto:\n",
    "        if \"@\" not in w and \"http\" not in w and len(w)>3:\n",
    "            try:\n",
    "                palabras[w] += 1\n",
    "            except:\n",
    "                palabras[w] = 1\n",
    "\n",
    "print \"Total palabras diferentes:\",len(palabras)"
   ]
  },
  {
   "cell_type": "code",
   "execution_count": null,
   "metadata": {},
   "outputs": [],
   "source": [
    "def mostrarInfo(info):\n",
    "    for k in info:\n",
    "        print k[1],\"\\t\",k[0]\n",
    "        \n",
    "#Cada palabra del diccionario, y la cantidad que se presenta. \n",
    "frec = [(x,palabras[x]) for x in palabras.keys()]\n",
    "#Las organiza. Key=lambda agiliza porque llama exactamente una vez cada input. Organiza a partir del parametro [1]\n",
    "frec.sort(key=lambda x:x[1], reverse=True)\n",
    "#Para mostrarlas fancy.\n",
    "mostrarInfo(frec[0:20])"
   ]
  },
  {
   "cell_type": "code",
   "execution_count": null,
   "metadata": {},
   "outputs": [],
   "source": [
    "words, frequencies = zip(*frec[0:20])\n",
    "\n",
    "indices = np.arange(len(frec[0:20]))\n",
    "plt.bar(indices, frequencies, color='r')\n",
    "plt.xticks(indices, words, rotation='vertical')\n",
    "plt.tight_layout()\n",
    "plt.show()"
   ]
  },
  {
   "cell_type": "code",
   "execution_count": null,
   "metadata": {},
   "outputs": [],
   "source": [
    "tuits = []\n",
    "for t in tweets:\n",
    "    tuits.append(filter(predicate,remove_accents(t['text'])).lower())"
   ]
  },
  {
   "cell_type": "code",
   "execution_count": null,
   "metadata": {
    "scrolled": true
   },
   "outputs": [],
   "source": [
    "tuits = {}\n",
    "for t in tweets:\n",
    "    try:\n",
    "        tuits[t['user']] += filter(predicate,remove_accents(t['text'])).lower().split()\n",
    "    except:\n",
    "        tuits[t['user']] = filter(predicate,remove_accents(t['text'])).lower().split()"
   ]
  },
  {
   "cell_type": "code",
   "execution_count": null,
   "metadata": {},
   "outputs": [],
   "source": [
    "t"
   ]
  },
  {
   "cell_type": "code",
   "execution_count": null,
   "metadata": {
    "collapsed": true
   },
   "outputs": [],
   "source": []
  }
 ],
 "metadata": {
  "kernelspec": {
   "display_name": "Python 2",
   "language": "python",
   "name": "python2"
  },
  "language_info": {
   "codemirror_mode": {
    "name": "ipython",
    "version": 2
   },
   "file_extension": ".py",
   "mimetype": "text/x-python",
   "name": "python",
   "nbconvert_exporter": "python",
   "pygments_lexer": "ipython2",
   "version": "2.7.13"
  }
 },
 "nbformat": 4,
 "nbformat_minor": 2
}
